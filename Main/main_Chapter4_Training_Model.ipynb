{
 "cells": [
  {
   "cell_type": "code",
   "execution_count": 2,
   "metadata": {},
   "outputs": [],
   "source": [
    "import numpy as np\n",
    "\n",
    "# Tạo dữ liệu ngẫu nhiên\n",
    "X = 2* np.random.rand(100, 1)  # 100 điểm dữ liệu, mỗi điểm có 1 đặc trưng\n",
    "y = 4 + 3 * X + np.random.randn(100, 1)  # Phương trình: y = 4 + 3X + nhiễu\n",
    "#print(X)\n",
    "#print(y)\n"
   ]
  },
  {
   "cell_type": "code",
   "execution_count": 3,
   "metadata": {},
   "outputs": [],
   "source": [
    "X_b = np.c_[np.ones((100, 1)), X]  # Thêm cột x0 = 1 vào mỗi dòng dữ liệu\n",
    "#print(X_b)\n"
   ]
  },
  {
   "cell_type": "code",
   "execution_count": 4,
   "metadata": {},
   "outputs": [
    {
     "data": {
      "text/plain": [
       "array([[4.03075302],\n",
       "       [2.94517478]])"
      ]
     },
     "execution_count": 4,
     "metadata": {},
     "output_type": "execute_result"
    }
   ],
   "source": [
    "theta_best = np.linalg.inv(X_b.T.dot(X_b)).dot(X_b.T).dot(y)\n",
    "theta_best\n"
   ]
  },
  {
   "cell_type": "code",
   "execution_count": 5,
   "metadata": {},
   "outputs": [
    {
     "data": {
      "text/plain": [
       "array([[ 4.03075302],\n",
       "       [ 9.92110258],\n",
       "       [ 6.9759278 ],\n",
       "       [ 8.44851519],\n",
       "       [ 9.18480888],\n",
       "       [ 6.2396341 ],\n",
       "       [18.75662691]])"
      ]
     },
     "execution_count": 5,
     "metadata": {},
     "output_type": "execute_result"
    }
   ],
   "source": [
    "# X_new = np.array([[], [2]])  # Các giá trị mới của x1\n",
    "# X_new_b = np.c_[np.ones((2, 1)), X_new]  # Thêm cột x0 = 1 vào mỗi dòng\n",
    "# y_predict = X_new_b.dot(theta_best)  # Dự đoán y cho X_new\n",
    "# y_predict\n",
    "\n",
    "X_new = np.array([[0], [2],[1], [1.5],[1.75],[0.75],[5]])  # Các giá trị mới của x1\n",
    "X_new_b = np.c_[np.ones((X_new.shape[0], 1)), X_new]  # Thêm cột x0 = 1 vào mỗi dòng\n",
    "y_predict = X_new_b.dot(theta_best)  # Dự đoán y cho X_new\n",
    "y_predict\n",
    "\n"
   ]
  },
  {
   "cell_type": "code",
   "execution_count": 6,
   "metadata": {},
   "outputs": [
    {
     "data": {
      "image/png": "[encoded data removed]",
      "text/plain": [
       "<Figure size 640x480 with 1 Axes>"
      ]
     },
     "metadata": {},
     "output_type": "display_data"
    }
   ],
   "source": [
    "import matplotlib.pyplot as plt\n",
    "plt.plot(X_new, y_predict, \"r-\")  # Đoạn đường dự đoán (màu đỏ)\n",
    "plt.plot(X, y, \"b.\")  # Dữ liệu thực tế (màu xanh)\n",
    "plt.axis([0,5, 0, 20])  # Cài đặt giới hạn cho trục\n",
    "plt.show()  # Hiển thị đồ thị\n"
   ]
  },
  {
   "cell_type": "code",
   "execution_count": 7,
   "metadata": {},
   "outputs": [
    {
     "name": "stdout",
     "output_type": "stream",
     "text": [
      "[4.03075302] [[2.94517478]]\n"
     ]
    },
    {
     "data": {
      "text/plain": [
       "array([[ 4.03075302],\n",
       "       [ 9.92110258],\n",
       "       [ 6.9759278 ],\n",
       "       [ 8.44851519],\n",
       "       [ 9.18480888],\n",
       "       [ 6.2396341 ],\n",
       "       [18.75662691]])"
      ]
     },
     "execution_count": 7,
     "metadata": {},
     "output_type": "execute_result"
    }
   ],
   "source": [
    "from sklearn.linear_model import LinearRegression\n",
    "lin_reg = LinearRegression()\n",
    "lin_reg.fit(X, y)\n",
    "print(lin_reg.intercept_, lin_reg.coef_)\n",
    "lin_reg.predict(X_new)\n",
    "\n"
   ]
  },
  {
   "cell_type": "code",
   "execution_count": 8,
   "metadata": {},
   "outputs": [
    {
     "name": "stdout",
     "output_type": "stream",
     "text": [
      "[[4.03075302]\n",
      " [2.94517478]]\n"
     ]
    },
    {
     "data": {
      "text/plain": [
       "array([[ 4.03075302],\n",
       "       [ 9.92110258],\n",
       "       [ 6.9759278 ],\n",
       "       [ 8.44851519],\n",
       "       [ 9.18480888],\n",
       "       [ 6.2396341 ],\n",
       "       [18.75662691]])"
      ]
     },
     "execution_count": 8,
     "metadata": {},
     "output_type": "execute_result"
    }
   ],
   "source": [
    "theta_best_svd, residuals, rank, s = np.linalg.lstsq(X_b, y, rcond=1e-6)\n",
    "print(theta_best_svd)\n",
    "y_predict = X_new_b.dot(theta_best_svd)  # Dự đoán y cho X_new\n",
    "y_predict"
   ]
  },
  {
   "cell_type": "code",
   "execution_count": 9,
   "metadata": {},
   "outputs": [
    {
     "name": "stdout",
     "output_type": "stream",
     "text": [
      "[[4.03075302]\n",
      " [2.94517478]]\n"
     ]
    },
    {
     "data": {
      "text/plain": [
       "array([[ 4.03075302],\n",
       "       [ 9.92110258],\n",
       "       [ 6.9759278 ],\n",
       "       [ 8.44851519],\n",
       "       [ 9.18480888],\n",
       "       [ 6.2396341 ],\n",
       "       [18.75662691]])"
      ]
     },
     "execution_count": 9,
     "metadata": {},
     "output_type": "execute_result"
    }
   ],
   "source": [
    "theta_best_pinv = np.linalg.pinv(X_b).dot(y)\n",
    "print(theta_best_pinv)\n",
    "y_predict = X_new_b.dot(theta_best_pinv)  # Dự đoán y cho X_new\n",
    "y_predict\n"
   ]
  },
  {
   "cell_type": "code",
   "execution_count": 10,
   "metadata": {},
   "outputs": [
    {
     "data": {
      "text/plain": [
       "array([[4.03075302],\n",
       "       [2.94517478]])"
      ]
     },
     "execution_count": 10,
     "metadata": {},
     "output_type": "execute_result"
    }
   ],
   "source": [
    "#Batch Gradient Descent\n",
    "eta = 0.1# learning rate\n",
    "n_iterations = 1000\n",
    "m = 100\n",
    "theta = np.random.randn(2,1)  #random initialization\n",
    "for iteration in range(n_iterations):\n",
    "    gradients = 2/m * X_b.T.dot(X_b.dot(theta) - y)\n",
    "    theta = theta - eta * gradients\n",
    "theta"
   ]
  },
  {
   "cell_type": "code",
   "execution_count": null,
   "metadata": {},
   "outputs": [
    {
     "data": {
      "text/plain": [
       "array([[4.04972501],\n",
       "       [2.96579187]])"
      ]
     },
     "execution_count": 11,
     "metadata": {},
     "output_type": "execute_result"
    }
   ],
   "source": [
    "#Stochastic Gradient Descent\n",
    "n_epochs = 50\n",
    "t0, t1 = 5, 50  # learning schedule hyperparameters\n",
    "def learning_schedule(t):\n",
    "    return t0 / (t + t1)\n",
    "theta = np.random.randn(2,1)  # random initialization\n",
    "for epoch in range(n_epochs):\n",
    "    for i in range(m):\n",
    "        random_index = np.random.randint(m)\n",
    "        xi = X_b[random_index:random_index+1]\n",
    "        yi = y[random_index:random_index+1]\n",
    "        gradients = 2 * xi.T.dot(xi.dot(theta) - yi)\n",
    "        eta = learning_schedule(epoch * m + i)\n",
    "        theta = theta - eta * gradients \n",
    "theta"
   ]
  },
  {
   "cell_type": "code",
   "execution_count": 13,
   "metadata": {},
   "outputs": [
    {
     "data": {
      "text/plain": [
       "(array([4.01691683]), array([3.0077669]))"
      ]
     },
     "execution_count": 13,
     "metadata": {},
     "output_type": "execute_result"
    }
   ],
   "source": [
    "# Thực hiện Linear Regression với SGD bằng Scikit-Learn\n",
    "from sklearn.linear_model import SGDRegressor\n",
    "\n",
    "sgd_reg = SGDRegressor(max_iter=1000, tol=1e-3, penalty=None, eta0=0.1)\n",
    "sgd_reg.fit(X, y.ravel())\n",
    "sgd_reg.intercept_, sgd_reg.coef_\n",
    "# Kết quả: (array([4.24365286]), array([2.8250878]))\n"
   ]
  },
  {
   "cell_type": "code",
   "execution_count": null,
   "metadata": {},
   "outputs": [],
   "source": [
    "# Polynomial Regression\n",
    "#Bước 1: Tạo dữ liệu phi tuyến\n",
    "m = 100  # số lượng mẫu\n",
    "X = 6 * np.random.rand(m, 1) - 3  # giá trị X từ -3 đến 3\n",
    "y = 0.5 * X**2 + X + 2 + np.random.randn(m, 1)  # thêm nhiễu\n",
    "print(X[0])\n",
    "\n",
    "#Bước 2: Chuyển đổi dữ liệu với PolynomialFeatures\n",
    "from sklearn.preprocessing import PolynomialFeatures\n",
    "poly_features = PolynomialFeatures(degree=2, include_bias=False)  \n",
    "X_poly = poly_features.fit_transform(X)\n",
    "print(X_poly[0])\n",
    "\n",
    "#Bước 3: Huấn luyện mô hình Linear Regression\n",
    "from sklearn.linear_model import LinearRegression\n",
    "lin_reg = LinearRegression()\n",
    "lin_reg.fit(X_poly, y)\n",
    "print(lin_reg.intercept_, lin_reg.coef_)\n",
    "\n",
    "#Bước 4: Predict X_new\n",
    "X_new = np.linspace(-3, 3, 100).reshape(100, 1)  # Dữ liệu mới\n",
    "X_new_poly = poly_features.transform(X_new)  # Chuyển đổi sang dạng đa thức\n",
    "y_new_pred = lin_reg.predict(X_new_poly)  # Dự đoán\n",
    "print(y_new_pred)\n",
    "\n",
    "# Vẽ biểu đồ\n",
    "import matplotlib.pyplot as plt\n",
    "plt.scatter(X, y, color='blue', label='Dữ liệu thực tế')  # Dữ liệu thực tế\n",
    "plt.plot(X_new, y_new_pred, color='red', linewidth=2, label='Hồi quy đa thức')  # Đường dự đoán\n",
    "plt.xlabel('X')\n",
    "plt.ylabel('y')\n",
    "plt.title('Hồi quy đa thức với Scikit-Learn')\n",
    "plt.legend()\n",
    "plt.show()\n",
    "\n"
   ]
  },
  {
   "cell_type": "code",
   "execution_count": 25,
   "metadata": {},
   "outputs": [
    {
     "data": {
      "image/png": "[encoded data removed]",
      "text/plain": [
       "<Figure size 640x480 with 1 Axes>"
      ]
     },
     "metadata": {},
     "output_type": "display_data"
    },
    {
     "data": {
      "image/png": "[encoded data removed]",
      "text/plain": [
       "<Figure size 640x480 with 1 Axes>"
      ]
     },
     "metadata": {},
     "output_type": "display_data"
    }
   ],
   "source": [
    "#Learning Curves\n",
    "from sklearn.metrics import mean_squared_error\n",
    "from sklearn.model_selection import train_test_split\n",
    "import matplotlib.pyplot as plt\n",
    "import numpy as np\n",
    "\n",
    "def plot_learning_curves(model, X, y):\n",
    "    X_train, X_val, y_train, y_val = train_test_split(X, y, test_size=0.2)\n",
    "    train_errors, val_errors = [], []\n",
    "    for m in range(1, len(X_train)):\n",
    "        model.fit(X_train[:m], y_train[:m])\n",
    "        y_train_predict = model.predict(X_train[:m])\n",
    "        y_val_predict = model.predict(X_val)\n",
    "        train_errors.append(mean_squared_error(y_train[:m], y_train_predict))\n",
    "        val_errors.append(mean_squared_error(y_val, y_val_predict))\n",
    "    \n",
    "    plt.plot(np.sqrt(train_errors), \"r-+\", linewidth=2, label=\"train\")\n",
    "    plt.plot(np.sqrt(val_errors), \"b-\", linewidth=3, label=\"val\")\n",
    "    plt.legend()\n",
    "    plt.xlabel(\"Training set size\")\n",
    "    plt.ylabel(\"RMSE\")\n",
    "    plt.show()\n",
    "#Ví dụ sử dụng LinearRegression\n",
    "from sklearn.linear_model import LinearRegression\n",
    "\n",
    "lin_reg = LinearRegression()\n",
    "plot_learning_curves(lin_reg, X, y)\n",
    "\n",
    "#Ví dụ sử dụng PolynomialFeatures\n",
    "from sklearn.pipeline import Pipeline\n",
    "polynomial_regression = Pipeline([\n",
    "    (\"poly_features\", PolynomialFeatures(degree=10, include_bias=False)),\n",
    "    (\"lin_reg\", LinearRegression()),\n",
    "])\n",
    "plot_learning_curves(polynomial_regression, X, y)\n",
    "\n"
   ]
  },
  {
   "cell_type": "code",
   "execution_count": null,
   "metadata": {},
   "outputs": [
    {
     "name": "stdout",
     "output_type": "stream",
     "text": [
      "[[4.93727021]]\n",
      "[4.91305331]\n",
      "[[4.09064722]]\n"
     ]
    }
   ],
   "source": [
    "# Regularized Linear Models\n",
    "#Ridge Regression\n",
    "\n",
    "##Thực hiện Ridge Regression trong Scikit-\n",
    "#Cách 1: Closed-Form Solution\n",
    "from sklearn.linear_model import Ridge\n",
    "import numpy as np\n",
    "m = 100\n",
    "X = 6 * np.random.rand(m, 1) - 3  # giá trị X từ -3 đến 3\n",
    "y = 0.5 * X**2 + X + 2 + np.random.randn(m, 1)  # thêm nhiễu\n",
    "# X = 2* np.random.rand(100, 1)  # 100 điểm dữ liệu, mỗi điểm có 1 đặc trưng\n",
    "# y = 4 + 3 * X + np.random.randn(100, 1)  # Phương trình: y = 4 + 3X + nhiễu\n",
    "# Ridge Regression với solver \"cholesky\"\n",
    "ridge_reg = Ridge(alpha=1, solver=\"cholesky\")\n",
    "ridge_reg.fit(X, y)  # Huấn luyện mô hình\n",
    "prediction = ridge_reg.predict([[1.5]])  # Dự đoán\n",
    "print(prediction)  # Kết quả: array([[1.55071465]])\n",
    "\n",
    "#Cách 2: Gradient Descent\n",
    "from sklearn.linear_model import SGDRegressor\n",
    "# Ridge Regression với Stochastic Gradient Descent\n",
    "sgd_reg = SGDRegressor(penalty=\"l2\")  # Regularization dạng l2\n",
    "sgd_reg.fit(X, y.ravel())  # Huấn luyện mô hình\n",
    "prediction = sgd_reg.predict([[1.5]])  # Dự đoán\n",
    "print(prediction)  # Kết quả: array([1.47012588])\n",
    "\n",
    "#Ridge Regression với PolynomialFeatures\n",
    "from sklearn.preprocessing import PolynomialFeatures, StandardScaler\n",
    "from sklearn.pipeline import Pipeline\n",
    "\n",
    "# Tạo pipeline kết hợp PolynomialFeatures, StandardScaler và Ridge Regression\n",
    "model = Pipeline([\n",
    "    (\"poly_features\", PolynomialFeatures(degree=10)),\n",
    "    (\"scaler\", StandardScaler()),\n",
    "    (\"ridge_reg\", Ridge(alpha=1))\n",
    "])\n",
    "\n",
    "# Huấn luyện và dự đoán\n",
    "model.fit(X, y)\n",
    "prediction = model.predict([[1.5]])\n",
    "print(prediction)\n",
    "\n",
    "\n"
   ]
  },
  {
   "cell_type": "code",
   "execution_count": null,
   "metadata": {},
   "outputs": [
    {
     "name": "stdout",
     "output_type": "stream",
     "text": [
      "[5.23286002]\n",
      "[4.79825917]\n"
     ]
    }
   ],
   "source": [
    "# Regularized Linear Models\n",
    "\n",
    "#Thực hiện Lasso Regression với Scikit-Learn\n",
    "from sklearn.linear_model import Lasso\n",
    "import numpy as np\n",
    "m = 100\n",
    "X = 6 * np.random.rand(m, 1) - 3  # giá trị X từ -3 đến 3\n",
    "y = 0.5 * X**2 + X + 2 + np.random.randn(m, 1)  # thêm nhiễu\n",
    "# Khởi tạo mô hình Lasso Regression\n",
    "lasso_reg = Lasso(alpha=0.1)\n",
    "lasso_reg.fit(X, y)  # Huấn luyện mô hình\n",
    "prediction = lasso_reg.predict([[1.5]])  # Dự đoán\n",
    "print(prediction)\n",
    "\n",
    "#Kết hợp với PolynomialFeatures\n",
    "from sklearn.pipeline import Pipeline\n",
    "from sklearn.preprocessing import PolynomialFeatures, StandardScaler\n",
    "\n",
    "# Pipeline: PolynomialFeatures + StandardScaler + Lasso Regression\n",
    "model = Pipeline([\n",
    "    (\"poly_features\", PolynomialFeatures(degree=10)),\n",
    "    (\"scaler\", StandardScaler()),\n",
    "    (\"lasso_reg\", Lasso(alpha=0.1))\n",
    "])\n",
    "\n",
    "# Huấn luyện và dự đoán\n",
    "model.fit(X, y)\n",
    "prediction = model.predict([[1.5]])\n",
    "print(prediction)\n"
   ]
  },
  {
   "cell_type": "code",
   "execution_count": 1,
   "metadata": {},
   "outputs": [
    {
     "name": "stdout",
     "output_type": "stream",
     "text": [
      "[4.96118735]\n",
      "[4.46812742]\n"
     ]
    }
   ],
   "source": [
    "# Regularized Linear Models\n",
    "#Thực hành với Elastic Net trong Scikit-Learn\n",
    "\n",
    "from sklearn.linear_model import ElasticNet\n",
    "import numpy as np\n",
    "m = 100\n",
    "X = 6 * np.random.rand(m, 1) - 3  # giá trị X từ -3 đến 3\n",
    "y = 0.5 * X**2 + X + 2 + np.random.randn(m, 1)  # thêm nhiễu\n",
    "# Tạo mô hình Elastic Net\n",
    "elastic_net = ElasticNet(alpha=0.1, l1_ratio=0.5)  # l1_ratio là tỷ lệ r\n",
    "elastic_net.fit(X, y)  # Huấn luyện mô hình\n",
    "predictions = elastic_net.predict([[1.5]])  # Dự đoán\n",
    "print(predictions)\n",
    "\n",
    "# Kết hợp với PolynomialFeatures\n",
    "from sklearn.pipeline import Pipeline\n",
    "from sklearn.preprocessing import PolynomialFeatures, StandardScaler\n",
    "\n",
    "# Pipeline: Tăng bậc đa thức + Chuẩn hóa + Elastic Net\n",
    "model = Pipeline([\n",
    "    (\"poly_features\", PolynomialFeatures(degree=3)),\n",
    "    (\"scaler\", StandardScaler()),\n",
    "    (\"elastic_net\", ElasticNet(alpha=0.1, l1_ratio=0.5))\n",
    "])\n",
    "\n",
    "# Huấn luyện và dự đoán\n",
    "model.fit(X, y)\n",
    "prediction = model.predict([[1.5]])\n",
    "print(prediction)\n"
   ]
  },
  {
   "cell_type": "code",
   "execution_count": 8,
   "metadata": {},
   "outputs": [
    {
     "name": "stdout",
     "output_type": "stream",
     "text": [
      "Kích thước tập huấn luyện: (160, 1) (160,)\n",
      "Kích thước tập validation: (40, 1) (40,)\n",
      "Best epoch: 83\n"
     ]
    }
   ],
   "source": [
    "from sklearn.datasets import make_regression\n",
    "from sklearn.model_selection import train_test_split\n",
    "from sklearn.base import clone\n",
    "from sklearn.pipeline import Pipeline\n",
    "from sklearn.preprocessing import PolynomialFeatures, StandardScaler\n",
    "from sklearn.linear_model import SGDRegressor\n",
    "from sklearn.metrics import mean_squared_error\n",
    "import numpy as np\n",
    "\n",
    "# Tạo dữ liệu mẫu\n",
    "X, y = make_regression(\n",
    "    n_samples=200,  # Số lượng mẫu\n",
    "    n_features=1,   # Số lượng đặc trưng\n",
    "    noise=15,       # Nhiễu trong dữ liệu\n",
    "    random_state=42 # Đảm bảo kết quả có thể tái tạo\n",
    ")\n",
    "\n",
    "# Chia dữ liệu thành tập huấn luyện và tập validation\n",
    "X_train, X_val, y_train, y_val = train_test_split(\n",
    "    X, y, \n",
    "    test_size=0.2,      # 20% dữ liệu cho tập validation\n",
    "    random_state=42     # Đảm bảo kết quả có thể tái tạo\n",
    ")\n",
    "\n",
    "print(\"Kích thước tập huấn luyện:\", X_train.shape, y_train.shape)\n",
    "print(\"Kích thước tập validation:\", X_val.shape, y_val.shape)\n",
    "\n",
    "# Chuẩn bị dữ liệu\n",
    "# Gợi ý sửa đổi:\n",
    "# Thử các thay đổi sau:\n",
    "\n",
    "# Giảm bậc của PolynomialFeatures xuống mức hợp lý hơn, ví dụ: degree=2 hoặc degree=3.\n",
    "# Thử nghiệm với eta0 khác nhau, chẳng hạn: 0.01, 0.005, hoặc 0.1.\n",
    "# Tăng số vòng lặp (epoch) nếu cần.\n",
    "poly_scaler = Pipeline([\n",
    "    (\"poly_features\", PolynomialFeatures(degree=2, include_bias=False)),\n",
    "    (\"std_scaler\", StandardScaler())\n",
    "])\n",
    "X_train_poly_scaled = poly_scaler.fit_transform(X_train)\n",
    "X_val_poly_scaled = poly_scaler.transform(X_val)\n",
    "\n",
    "# Khởi tạo SGDRegressor\n",
    "sgd_reg = SGDRegressor(max_iter=1, tol=None, warm_start=True,\n",
    "                       penalty=None, learning_rate=\"constant\", eta0=0.1)\n",
    "\n",
    "minimum_val_error = np.inf\n",
    "best_epoch = None\n",
    "best_model = None\n",
    "\n",
    "# Vòng lặp huấn luyện với Early Stopping\n",
    "for epoch in range(1000):\n",
    "    sgd_reg.fit(X_train_poly_scaled, y_train)  # Tiếp tục từ trạng thái trước đó\n",
    "    y_val_predict = sgd_reg.predict(X_val_poly_scaled)\n",
    "    val_error = mean_squared_error(y_val, y_val_predict)\n",
    "    if val_error < minimum_val_error:\n",
    "        minimum_val_error = val_error\n",
    "        best_epoch = epoch\n",
    "        best_model = clone(sgd_reg)\n",
    "\n",
    "print(\"Best epoch:\", best_epoch)\n"
   ]
  },
  {
   "cell_type": "code",
   "execution_count": 1,
   "metadata": {},
   "outputs": [
    {
     "data": {
      "image/png": "[encoded data removed]",
      "text/plain": [
       "<Figure size 640x480 with 1 Axes>"
      ]
     },
     "metadata": {},
     "output_type": "display_data"
    }
   ],
   "source": [
    "#Decision Boundaries (Ranh giới quyết định) và Logistic Regression trên Iris Dataset\n",
    "#a. Tải dữ liệu và chuẩn bị\n",
    "from sklearn import datasets\n",
    "import numpy as np\n",
    "\n",
    "# Tải dữ liệu Iris\n",
    "iris = datasets.load_iris()\n",
    "\n",
    "# X là chiều rộng cánh hoa (cột thứ 3)\n",
    "X = iris[\"data\"][:, 3:]\n",
    "\n",
    "# y là nhãn: 1 nếu Iris-Virginica, 0 nếu không\n",
    "y = (iris[\"target\"] == 2).astype(int)\n",
    "\n",
    "#b. Huấn luyện Logistic Regression\n",
    "from sklearn.linear_model import LogisticRegression\n",
    "# Khởi tạo và huấn luyện mô hình\n",
    "log_reg = LogisticRegression()\n",
    "log_reg.fit(X, y)\n",
    "\n",
    "#c. Dự đoán xác suất\n",
    "# Tạo dữ liệu mới (chiều rộng cánh hoa từ 0 đến 3 cm)\n",
    "X_new = np.linspace(0, 3, 1000).reshape(-1, 1)\n",
    "# Dự đoán xác suất\n",
    "y_proba = log_reg.predict_proba(X_new)\n",
    "\n",
    "#d. Vẽ đồ thị ranh giới quyết định\n",
    "import matplotlib.pyplot as plt\n",
    "\n",
    "# Vẽ đồ thị xác suất\n",
    "plt.plot(X_new, y_proba[:, 1], \"g-\", label=\"Iris-Virginica\")\n",
    "plt.plot(X_new, y_proba[:, 0], \"b--\", label=\"Not Iris-Virginica\")\n",
    "\n",
    "# Tô điểm đồ thị\n",
    "plt.xlabel(\"Petal width (cm)\")\n",
    "plt.ylabel(\"Probability\")\n",
    "plt.legend()\n",
    "plt.show()\n",
    "\n"
   ]
  },
  {
   "cell_type": "code",
   "execution_count": null,
   "metadata": {},
   "outputs": [],
   "source": []
  },
  {
   "cell_type": "code",
   "execution_count": null,
   "metadata": {},
   "outputs": [],
   "source": []
  }
 ],
 "metadata": {
  "kernelspec": {
   "display_name": "myenv",
   "language": "python",
   "name": "python3"
  },
  "language_info": {
   "codemirror_mode": {
    "name": "ipython",
    "version": 3
   },
   "file_extension": ".py",
   "mimetype": "text/x-python",
   "name": "python",
   "nbconvert_exporter": "python",
   "pygments_lexer": "ipython3",
   "version": "3.12.6"
  }
 },
 "nbformat": 4,
 "nbformat_minor": 2
}
